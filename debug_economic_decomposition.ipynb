{
 "cells": [
  {
   "cell_type": "code",
   "execution_count": 33,
   "id": "c7c2fd11",
   "metadata": {},
   "outputs": [],
   "source": [
    "from numpy import ones, linspace, sqrt, concatenate\n",
    "from numpy.random import RandomState\n",
    "from numpy_sugar.linalg import economic_qs, economic_qs_linear"
   ]
  },
  {
   "cell_type": "code",
   "execution_count": 34,
   "id": "ebb4c981",
   "metadata": {},
   "outputs": [],
   "source": [
    "from cellregmap import run_association, run_interaction, estimate_betas"
   ]
  },
  {
   "cell_type": "code",
   "execution_count": 1,
   "id": "a4d01ed2",
   "metadata": {},
   "outputs": [],
   "source": [
    "random = RandomState(1)\n",
    "n = 30                               # number of samples (cells)\n",
    "p = 5                                # number of individuals\n",
    "k = 4                                # number of contexts\n",
    "y = random.randn(n, 1)               # outcome vector (expression phenotype, one gene only)\n",
    "C = random.randn(n, k)               # context matrix (cells by contexts/factors)\n",
    "W = ones((n, 1))                     # intercept (covariate matrix)\n",
    "hK = random.randn(n, p)              # decomposition of kinship matrix (K = hK @ hK.T)\n",
    "g = 1.0 * (random.rand(n, 1) < 0.2)  # SNP vector"
   ]
  },
  {
   "cell_type": "code",
   "execution_count": 20,
   "id": "cb2ff849",
   "metadata": {},
   "outputs": [],
   "source": [
    "import time\n",
    "import matplotlib.pyplot as plt"
   ]
  },
  {
   "cell_type": "code",
   "execution_count": 2,
   "id": "1a579e0b",
   "metadata": {},
   "outputs": [],
   "source": [
    "############## Association Test"
   ]
  },
  {
   "cell_type": "code",
   "execution_count": null,
   "id": "29189bd6",
   "metadata": {},
   "outputs": [],
   "source": [
    "###### Fit null model\n",
    "# crm = CellRegMap(y=y, W=W, C=C, hK=hK)"
   ]
  },
  {
   "cell_type": "code",
   "execution_count": 14,
   "id": "b8477c2d",
   "metadata": {},
   "outputs": [
    {
     "name": "stdout",
     "output_type": "stream",
     "text": [
      "--- 0.0003185272216796875 seconds ---\n"
     ]
    }
   ],
   "source": [
    "start_time = time.time()\n",
    "rhos = linspace(0, 1, 11)\n",
    "print(\"--- %s seconds ---\" % (time.time() - start_time))"
   ]
  },
  {
   "cell_type": "code",
   "execution_count": 54,
   "id": "527f5ccf",
   "metadata": {},
   "outputs": [],
   "source": [
    "rhos\n",
    "rho = rhos[3]"
   ]
  },
  {
   "cell_type": "code",
   "execution_count": 55,
   "id": "b174013a",
   "metadata": {},
   "outputs": [
    {
     "data": {
      "text/plain": [
       "[0.5477225575051662, 0.8366600265340756]"
      ]
     },
     "execution_count": 55,
     "metadata": {},
     "output_type": "execute_result"
    }
   ],
   "source": [
    "a = sqrt(rho)\n",
    "b = sqrt(1 - rho)\n",
    "[a,b]"
   ]
  },
  {
   "cell_type": "code",
   "execution_count": 56,
   "id": "dfc5bd23",
   "metadata": {},
   "outputs": [
    {
     "name": "stdout",
     "output_type": "stream",
     "text": [
      "--- 0.0003058910369873047 seconds ---\n"
     ]
    }
   ],
   "source": [
    "start_time = time.time()\n",
    "hS = concatenate([a * C] + [b * hK], axis=1)\n",
    "print(\"--- %s seconds ---\" % (time.time() - start_time))"
   ]
  },
  {
   "cell_type": "code",
   "execution_count": 57,
   "id": "438fb159",
   "metadata": {},
   "outputs": [
    {
     "data": {
      "text/plain": [
       "<matplotlib.image.AxesImage at 0x2b08185edaf0>"
      ]
     },
     "execution_count": 57,
     "metadata": {},
     "output_type": "execute_result"
    },
    {
     "data": {
      "image/png": "[encoded data removed]",
      "text/plain": [
       "<Figure size 288x960 with 1 Axes>"
      ]
     },
     "metadata": {
      "needs_background": "light"
     },
     "output_type": "display_data"
    }
   ],
   "source": [
    "plt.matshow(hS)"
   ]
  },
  {
   "cell_type": "code",
   "execution_count": 58,
   "id": "542fb113",
   "metadata": {},
   "outputs": [
    {
     "data": {
      "text/plain": [
       "<matplotlib.image.AxesImage at 0x2b08185c6130>"
      ]
     },
     "execution_count": 58,
     "metadata": {},
     "output_type": "execute_result"
    },
    {
     "data": {
      "image/png": "[encoded data removed]",
      "text/plain": [
       "<Figure size 288x288 with 1 Axes>"
      ]
     },
     "metadata": {
      "needs_background": "light"
     },
     "output_type": "display_data"
    }
   ],
   "source": [
    "plt.matshow(hS @ hS.T)"
   ]
  },
  {
   "cell_type": "code",
   "execution_count": 59,
   "id": "a4468048",
   "metadata": {},
   "outputs": [
    {
     "data": {
      "text/plain": [
       "(30, 9)"
      ]
     },
     "execution_count": 59,
     "metadata": {},
     "output_type": "execute_result"
    }
   ],
   "source": [
    "# rank = 9: 4 contexts + 5 individuals\n",
    "# n cells = 30\n",
    "hS.shape"
   ]
  },
  {
   "cell_type": "code",
   "execution_count": 60,
   "id": "b5967eb9",
   "metadata": {},
   "outputs": [
    {
     "data": {
      "text/plain": [
       "(30, 30)"
      ]
     },
     "execution_count": 60,
     "metadata": {},
     "output_type": "execute_result"
    }
   ],
   "source": [
    "S = hS @ hS.T\n",
    "S.shape"
   ]
  },
  {
   "cell_type": "code",
   "execution_count": 61,
   "id": "0c8be738",
   "metadata": {},
   "outputs": [
    {
     "name": "stdout",
     "output_type": "stream",
     "text": [
      "--- 0.0005869865417480469 seconds ---\n"
     ]
    }
   ],
   "source": [
    "start_time = time.time()\n",
    "QS = economic_qs_linear(hS, return_q1=False)\n",
    "print(\"--- %s seconds ---\" % (time.time() - start_time))"
   ]
  },
  {
   "cell_type": "code",
   "execution_count": 62,
   "id": "1d3e8081",
   "metadata": {},
   "outputs": [
    {
     "data": {
      "text/plain": [
       "(30, 9)"
      ]
     },
     "execution_count": 62,
     "metadata": {},
     "output_type": "execute_result"
    }
   ],
   "source": [
    "# eigenvectors\n",
    "Q = QS[0][0]\n",
    "Q.shape"
   ]
  },
  {
   "cell_type": "code",
   "execution_count": 63,
   "id": "daee8cd3",
   "metadata": {},
   "outputs": [
    {
     "data": {
      "text/plain": [
       "(9,)"
      ]
     },
     "execution_count": 63,
     "metadata": {},
     "output_type": "execute_result"
    }
   ],
   "source": [
    "# eigenvalues\n",
    "L = QS[1]\n",
    "L.shape"
   ]
  },
  {
   "cell_type": "code",
   "execution_count": 66,
   "id": "e79af17e",
   "metadata": {},
   "outputs": [
    {
     "data": {
      "text/plain": [
       "<matplotlib.image.AxesImage at 0x2b081877c490>"
      ]
     },
     "execution_count": 66,
     "metadata": {},
     "output_type": "execute_result"
    },
    {
     "data": {
      "image/png": "[encoded data removed]",
      "text/plain": [
       "<Figure size 288x960 with 1 Axes>"
      ]
     },
     "metadata": {
      "needs_background": "light"
     },
     "output_type": "display_data"
    }
   ],
   "source": [
    "plt.matshow(Q)"
   ]
  },
  {
   "cell_type": "code",
   "execution_count": null,
   "id": "e21260a5",
   "metadata": {},
   "outputs": [],
   "source": [
    "########################################## "
   ]
  },
  {
   "cell_type": "code",
   "execution_count": null,
   "id": "fb8d8e47",
   "metadata": {},
   "outputs": [],
   "source": [
    "############## Interaction Test"
   ]
  },
  {
   "cell_type": "code",
   "execution_count": null,
   "id": "a8c8393d",
   "metadata": {},
   "outputs": [],
   "source": [
    "###### Fit null model\n",
    "# crm = CellRegMap(y=y, W=W, C=C, hK=hK)"
   ]
  }
 ],
 "metadata": {
  "kernelspec": {
   "display_name": "Python (struct-lmm2)",
   "language": "python",
   "name": "struct-lmm2"
  },
  "language_info": {
   "codemirror_mode": {
    "name": "ipython",
    "version": 3
   },
   "file_extension": ".py",
   "mimetype": "text/x-python",
   "name": "python",
   "nbconvert_exporter": "python",
   "pygments_lexer": "ipython3",
   "version": "3.8.5"
  }
 },
 "nbformat": 4,
 "nbformat_minor": 5
}
