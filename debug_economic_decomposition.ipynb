{
 "cells": [
  {
   "cell_type": "code",
   "execution_count": 140,
   "id": "3d782978",
   "metadata": {},
   "outputs": [],
   "source": [
    "from numpy import ones, linspace, sqrt, concatenate, asarray, inf\n",
    "from numpy_sugar import ddot\n",
    "from numpy.random import RandomState\n",
    "from numpy_sugar.linalg import economic_qs, economic_qs_linear, economic_svd\n",
    "from glimix_core.lmm import LMM"
   ]
  },
  {
   "cell_type": "code",
   "execution_count": 395,
   "id": "26cf24c4",
   "metadata": {},
   "outputs": [],
   "source": [
    "from cellregmap import CellRegMap, run_association, run_association_fast, run_interaction, estimate_betas"
   ]
  },
  {
   "cell_type": "code",
   "execution_count": 97,
   "id": "e91da713",
   "metadata": {},
   "outputs": [],
   "source": [
    "random = RandomState(1)\n",
    "n = 30                               # number of samples (cells)\n",
    "p = 5                                # number of individuals\n",
    "k = 4                                # number of contexts\n",
    "y = random.randn(n, 1)               # outcome vector (expression phenotype, one gene only)\n",
    "C = random.randn(n, k)               # context matrix (cells by contexts/factors)\n",
    "W = ones((n, 1))                     # intercept (covariate matrix)\n",
    "hK = random.randn(n, p)              # decomposition of kinship matrix (K = hK @ hK.T)\n",
    "g = 1.0 * (random.rand(n, 1) < 0.2)  # SNP vector"
   ]
  },
  {
   "cell_type": "code",
   "execution_count": 98,
   "id": "6e429959",
   "metadata": {},
   "outputs": [],
   "source": [
    "import time\n",
    "import matplotlib.pyplot as plt"
   ]
  },
  {
   "cell_type": "code",
   "execution_count": 99,
   "id": "30969b8e",
   "metadata": {},
   "outputs": [],
   "source": [
    "########################################################\n",
    "########################################################\n",
    "########################################################"
   ]
  },
  {
   "cell_type": "code",
   "execution_count": 100,
   "id": "f444352f",
   "metadata": {},
   "outputs": [],
   "source": [
    "########################################################\n",
    "############## Association Test"
   ]
  },
  {
   "cell_type": "code",
   "execution_count": 101,
   "id": "e4501a11",
   "metadata": {},
   "outputs": [],
   "source": [
    "###### Fit null model\n",
    "# crm = CellRegMap(y=y, W=W, C=C, hK=hK)"
   ]
  },
  {
   "cell_type": "code",
   "execution_count": 148,
   "id": "d9129c50",
   "metadata": {},
   "outputs": [
    {
     "name": "stdout",
     "output_type": "stream",
     "text": [
      "--- 0.0002543926239013672 seconds ---\n"
     ]
    }
   ],
   "source": [
    "start_time = time.time()\n",
    "rhos = linspace(0, 1, 11)\n",
    "print(\"--- %s seconds ---\" % (time.time() - start_time))"
   ]
  },
  {
   "cell_type": "code",
   "execution_count": 149,
   "id": "96199f9a",
   "metadata": {},
   "outputs": [
    {
     "data": {
      "text/plain": [
       "array([0. , 0.1, 0.2, 0.3, 0.4, 0.5, 0.6, 0.7, 0.8, 0.9, 1. ])"
      ]
     },
     "execution_count": 149,
     "metadata": {},
     "output_type": "execute_result"
    }
   ],
   "source": [
    "rhos"
   ]
  },
  {
   "cell_type": "code",
   "execution_count": 150,
   "id": "50b28450",
   "metadata": {},
   "outputs": [],
   "source": [
    "# pick one value of rho as example"
   ]
  },
  {
   "cell_type": "code",
   "execution_count": 547,
   "id": "996169f8",
   "metadata": {},
   "outputs": [
    {
     "data": {
      "text/plain": [
       "0.0"
      ]
     },
     "execution_count": 547,
     "metadata": {},
     "output_type": "execute_result"
    }
   ],
   "source": [
    "rho = rhos[0]\n",
    "rho"
   ]
  },
  {
   "cell_type": "code",
   "execution_count": 548,
   "id": "09da526f",
   "metadata": {},
   "outputs": [
    {
     "data": {
      "text/plain": [
       "[0.0, 1.0]"
      ]
     },
     "execution_count": 548,
     "metadata": {},
     "output_type": "execute_result"
    }
   ],
   "source": [
    "a = sqrt(rho)\n",
    "b = sqrt(1 - rho)\n",
    "[a,b]"
   ]
  },
  {
   "cell_type": "code",
   "execution_count": 549,
   "id": "904b093b",
   "metadata": {},
   "outputs": [
    {
     "name": "stdout",
     "output_type": "stream",
     "text": [
      "--- 0.00027680397033691406 seconds ---\n"
     ]
    }
   ],
   "source": [
    "start_time = time.time()\n",
    "hS = concatenate([a * C] + [b * hK], axis=1)\n",
    "print(\"--- %s seconds ---\" % (time.time() - start_time))"
   ]
  },
  {
   "cell_type": "code",
   "execution_count": 550,
   "id": "a8ef71d7",
   "metadata": {},
   "outputs": [],
   "source": [
    "# plt.matshow(hS)"
   ]
  },
  {
   "cell_type": "code",
   "execution_count": 551,
   "id": "fa840843",
   "metadata": {},
   "outputs": [],
   "source": [
    "# plt.matshow(hS @ hS.T)"
   ]
  },
  {
   "cell_type": "code",
   "execution_count": 552,
   "id": "61dcf7c6",
   "metadata": {},
   "outputs": [],
   "source": [
    "# just checking this is the same\n",
    "# M = rho*C @ C.T + (1-rho)*(hK @ hK.T)\n",
    "# plt.matshow(M)"
   ]
  },
  {
   "cell_type": "code",
   "execution_count": 553,
   "id": "c7857d0e",
   "metadata": {},
   "outputs": [
    {
     "data": {
      "text/plain": [
       "(30, 9)"
      ]
     },
     "execution_count": 553,
     "metadata": {},
     "output_type": "execute_result"
    }
   ],
   "source": [
    "# rank = 9: 4 contexts + 5 individuals\n",
    "# n cells = 30\n",
    "hS.shape"
   ]
  },
  {
   "cell_type": "code",
   "execution_count": 554,
   "id": "a2ae0432",
   "metadata": {},
   "outputs": [
    {
     "data": {
      "text/plain": [
       "(30, 30)"
      ]
     },
     "execution_count": 554,
     "metadata": {},
     "output_type": "execute_result"
    }
   ],
   "source": [
    "S = hS @ hS.T\n",
    "S.shape"
   ]
  },
  {
   "cell_type": "code",
   "execution_count": 555,
   "id": "cdb65564",
   "metadata": {},
   "outputs": [
    {
     "name": "stdout",
     "output_type": "stream",
     "text": [
      "--- 0.0003991127014160156 seconds ---\n"
     ]
    }
   ],
   "source": [
    "start_time = time.time()\n",
    "QS = economic_qs_linear(hS, return_q1=False)\n",
    "print(\"--- %s seconds ---\" % (time.time() - start_time))"
   ]
  },
  {
   "cell_type": "code",
   "execution_count": 556,
   "id": "d8838b0d",
   "metadata": {},
   "outputs": [],
   "source": [
    "# eigenvectors\n",
    "# Q = QS[0][0]\n",
    "# Q.shape"
   ]
  },
  {
   "cell_type": "code",
   "execution_count": 557,
   "id": "45b89a49",
   "metadata": {},
   "outputs": [],
   "source": [
    "# eigenvalues\n",
    "# L = QS[1]\n",
    "# L.shape"
   ]
  },
  {
   "cell_type": "code",
   "execution_count": 558,
   "id": "54ed7965",
   "metadata": {},
   "outputs": [],
   "source": [
    "# plt.matshow(Q)"
   ]
  },
  {
   "cell_type": "code",
   "execution_count": 559,
   "id": "b9921294",
   "metadata": {},
   "outputs": [],
   "source": [
    "###### Run association for specified genotypes\n",
    "# crm.scan_association_fast(g)"
   ]
  },
  {
   "cell_type": "code",
   "execution_count": 560,
   "id": "b0605dcd",
   "metadata": {},
   "outputs": [],
   "source": [
    "# again looping over rhos, \n",
    "# for each row load the corresponding QS computed before\n",
    "# here just using for rho=0.3 as above"
   ]
  },
  {
   "cell_type": "code",
   "execution_count": 561,
   "id": "df4ed686",
   "metadata": {},
   "outputs": [
    {
     "name": "stdout",
     "output_type": "stream",
     "text": [
      "--- 0.0006306171417236328 seconds ---\n"
     ]
    }
   ],
   "source": [
    "start_time = time.time()\n",
    "lmm = LMM(y, W, QS, restricted=False)\n",
    "print(\"--- %s seconds ---\" % (time.time() - start_time))"
   ]
  },
  {
   "cell_type": "code",
   "execution_count": 562,
   "id": "7fae2c0e",
   "metadata": {},
   "outputs": [
    {
     "name": "stdout",
     "output_type": "stream",
     "text": [
      "--- 0.007986307144165039 seconds ---\n"
     ]
    }
   ],
   "source": [
    "start_time = time.time()\n",
    "lmm.fit(verbose=False)\n",
    "print(\"--- %s seconds ---\" % (time.time() - start_time))"
   ]
  },
  {
   "cell_type": "code",
   "execution_count": 563,
   "id": "c9e507b5",
   "metadata": {},
   "outputs": [],
   "source": [
    "# let us pretend this is the best lmm (i.e. this value of rho corresponds to max likelihood value)"
   ]
  },
  {
   "cell_type": "code",
   "execution_count": 564,
   "id": "bdb283ec",
   "metadata": {},
   "outputs": [
    {
     "name": "stdout",
     "output_type": "stream",
     "text": [
      "--- 0.00011658668518066406 seconds ---\n"
     ]
    }
   ],
   "source": [
    "start_time = time.time()\n",
    "null_lmm = lmm\n",
    "print(\"--- %s seconds ---\" % (time.time() - start_time))"
   ]
  },
  {
   "cell_type": "code",
   "execution_count": 565,
   "id": "7f229313",
   "metadata": {},
   "outputs": [
    {
     "name": "stdout",
     "output_type": "stream",
     "text": [
      "--- 0.0005817413330078125 seconds ---\n"
     ]
    }
   ],
   "source": [
    "start_time = time.time()\n",
    "flmm = lmm.get_fast_scanner()\n",
    "print(\"--- %s seconds ---\" % (time.time() - start_time))"
   ]
  },
  {
   "cell_type": "code",
   "execution_count": 566,
   "id": "1a8d40f4",
   "metadata": {},
   "outputs": [
    {
     "name": "stdout",
     "output_type": "stream",
     "text": [
      "--- 0.0023317337036132812 seconds ---\n"
     ]
    }
   ],
   "source": [
    "start_time = time.time()\n",
    "alt_lmls = flmm.fast_scan(g, verbose=False)['lml']\n",
    "print(\"--- %s seconds ---\" % (time.time() - start_time))"
   ]
  },
  {
   "cell_type": "code",
   "execution_count": 567,
   "id": "2964686f",
   "metadata": {},
   "outputs": [],
   "source": [
    "def lrt_pvalues(null_lml, alt_lmls, dof=1):\n",
    "    from numpy import clip\n",
    "    from numpy_sugar import epsilon\n",
    "    from scipy.stats import chi2\n",
    "\n",
    "    lrs = clip(-2 * null_lml + 2 * asarray(alt_lmls, float), epsilon.super_tiny, inf)\n",
    "    pv = chi2(df=dof).sf(lrs)\n",
    "    return clip(pv, epsilon.super_tiny, 1 - epsilon.tiny)"
   ]
  },
  {
   "cell_type": "code",
   "execution_count": 568,
   "id": "6c9c5238",
   "metadata": {},
   "outputs": [
    {
     "name": "stdout",
     "output_type": "stream",
     "text": [
      "--- 0.0016846656799316406 seconds ---\n"
     ]
    }
   ],
   "source": [
    "start_time = time.time()\n",
    "pvalues = lrt_pvalues(null_lmm.lml(), alt_lmls, dof=1)\n",
    "print(\"--- %s seconds ---\" % (time.time() - start_time))"
   ]
  },
  {
   "cell_type": "code",
   "execution_count": 569,
   "id": "a5457e9f",
   "metadata": {},
   "outputs": [
    {
     "data": {
      "text/plain": [
       "array([0.74595695])"
      ]
     },
     "execution_count": 569,
     "metadata": {},
     "output_type": "execute_result"
    }
   ],
   "source": [
    "pvalues"
   ]
  },
  {
   "cell_type": "code",
   "execution_count": 546,
   "id": "b2c14915",
   "metadata": {},
   "outputs": [
    {
     "name": "stderr",
     "output_type": "stream",
     "text": [
      "100%|██████████| 1/1 [00:00<00:00, 95.49it/s]\n"
     ]
    },
    {
     "data": {
      "text/plain": [
       "array([0.74236452])"
      ]
     },
     "execution_count": 546,
     "metadata": {},
     "output_type": "execute_result"
    }
   ],
   "source": [
    "## compared to association runner\n",
    "run_association(y=y, W=W, E=C, hK=hK, G=g)[0]"
   ]
  },
  {
   "cell_type": "code",
   "execution_count": 520,
   "id": "25dad789",
   "metadata": {},
   "outputs": [
    {
     "data": {
      "text/plain": [
       "array([0.74855415])"
      ]
     },
     "execution_count": 520,
     "metadata": {},
     "output_type": "execute_result"
    }
   ],
   "source": [
    "## compared to association runner (fast)\n",
    "run_association_fast(y=y, W=W, E=C, hK=hK, G=g)[0]"
   ]
  },
  {
   "cell_type": "code",
   "execution_count": 521,
   "id": "d78910b6",
   "metadata": {},
   "outputs": [
    {
     "data": {
      "text/plain": [
       "array([0.74595695])"
      ]
     },
     "execution_count": 521,
     "metadata": {},
     "output_type": "execute_result"
    }
   ],
   "source": [
    "## compared to two steps association (fast) - identical to this one\n",
    "crm = CellRegMap(y=y, W=W, E=C, hK=hK)\n",
    "crm.scan_association_fast(g)[0]"
   ]
  },
  {
   "cell_type": "code",
   "execution_count": 522,
   "id": "eb3d9691",
   "metadata": {},
   "outputs": [
    {
     "name": "stderr",
     "output_type": "stream",
     "text": [
      "100%|██████████| 1/1 [00:00<00:00, 109.10it/s]\n"
     ]
    },
    {
     "data": {
      "text/plain": [
       "array([0.74594644])"
      ]
     },
     "execution_count": 522,
     "metadata": {},
     "output_type": "execute_result"
    }
   ],
   "source": [
    "# not fast\n",
    "crm.scan_association(g)[0]"
   ]
  },
  {
   "cell_type": "code",
   "execution_count": null,
   "id": "3f558ac4",
   "metadata": {},
   "outputs": [],
   "source": []
  },
  {
   "cell_type": "code",
   "execution_count": null,
   "id": "623cc577",
   "metadata": {},
   "outputs": [],
   "source": []
  },
  {
   "cell_type": "code",
   "execution_count": null,
   "id": "292e5ae2",
   "metadata": {},
   "outputs": [],
   "source": []
  },
  {
   "cell_type": "code",
   "execution_count": null,
   "id": "3b7b60e5",
   "metadata": {},
   "outputs": [],
   "source": [
    "########################################################\n",
    "########################################################\n",
    "########################################################"
   ]
  },
  {
   "cell_type": "code",
   "execution_count": null,
   "id": "1d2eaca5",
   "metadata": {},
   "outputs": [],
   "source": [
    "########################################################\n",
    "############## Interaction Test"
   ]
  },
  {
   "cell_type": "code",
   "execution_count": null,
   "id": "3d99660a",
   "metadata": {},
   "outputs": [],
   "source": [
    "###### get L values\n",
    "# Ls = get_L_values(hK, C)"
   ]
  },
  {
   "cell_type": "code",
   "execution_count": 69,
   "id": "c008507d",
   "metadata": {},
   "outputs": [
    {
     "name": "stdout",
     "output_type": "stream",
     "text": [
      "--- 0.00045037269592285156 seconds ---\n"
     ]
    }
   ],
   "source": [
    "start_time = time.time()\n",
    "[U, S, _] = economic_svd(C)\n",
    "print(\"--- %s seconds ---\" % (time.time() - start_time))"
   ]
  },
  {
   "cell_type": "code",
   "execution_count": 70,
   "id": "f5332872",
   "metadata": {},
   "outputs": [
    {
     "data": {
      "text/plain": [
       "(30, 4)"
      ]
     },
     "execution_count": 70,
     "metadata": {},
     "output_type": "execute_result"
    }
   ],
   "source": [
    "U.shape"
   ]
  },
  {
   "cell_type": "code",
   "execution_count": 73,
   "id": "161de54e",
   "metadata": {
    "scrolled": true
   },
   "outputs": [
    {
     "data": {
      "text/plain": [
       "<matplotlib.image.AxesImage at 0x2b0818845a30>"
      ]
     },
     "execution_count": 73,
     "metadata": {},
     "output_type": "execute_result"
    },
    {
     "data": {
      "image/png": "[encoded data removed]",
      "text/plain": [
       "<Figure size 288x1152 with 1 Axes>"
      ]
     },
     "metadata": {
      "needs_background": "light"
     },
     "output_type": "display_data"
    }
   ],
   "source": [
    "plt.matshow(U)"
   ]
  },
  {
   "cell_type": "code",
   "execution_count": 71,
   "id": "c1859890",
   "metadata": {},
   "outputs": [
    {
     "data": {
      "text/plain": [
       "(4,)"
      ]
     },
     "execution_count": 71,
     "metadata": {},
     "output_type": "execute_result"
    }
   ],
   "source": [
    "S.shape"
   ]
  },
  {
   "cell_type": "code",
   "execution_count": 75,
   "id": "8703895b",
   "metadata": {},
   "outputs": [
    {
     "name": "stdout",
     "output_type": "stream",
     "text": [
      "--- 0.00011444091796875 seconds ---\n"
     ]
    }
   ],
   "source": [
    "start_time = time.time()\n",
    "us = U * S\n",
    "print(\"--- %s seconds ---\" % (time.time() - start_time))"
   ]
  },
  {
   "cell_type": "code",
   "execution_count": 78,
   "id": "b50a4e4a",
   "metadata": {},
   "outputs": [
    {
     "name": "stdout",
     "output_type": "stream",
     "text": [
      "--- 0.0004088878631591797 seconds ---\n"
     ]
    }
   ],
   "source": [
    "start_time = time.time()\n",
    "Ls = [ddot(us[:,i], hK) for i in range(us.shape[1])]\n",
    "print(\"--- %s seconds ---\" % (time.time() - start_time))"
   ]
  },
  {
   "cell_type": "code",
   "execution_count": 80,
   "id": "a85f07fb",
   "metadata": {},
   "outputs": [
    {
     "data": {
      "text/plain": [
       "4"
      ]
     },
     "execution_count": 80,
     "metadata": {},
     "output_type": "execute_result"
    }
   ],
   "source": [
    "# one per context\n",
    "len(Ls)"
   ]
  },
  {
   "cell_type": "code",
   "execution_count": 82,
   "id": "3c79786d",
   "metadata": {},
   "outputs": [
    {
     "data": {
      "text/plain": [
       "(30, 5)"
      ]
     },
     "execution_count": 82,
     "metadata": {},
     "output_type": "execute_result"
    }
   ],
   "source": [
    "# n cells X n individuals\n",
    "Ls[0].shape"
   ]
  },
  {
   "cell_type": "code",
   "execution_count": null,
   "id": "5389c34d",
   "metadata": {},
   "outputs": [],
   "source": [
    "###### Fit null model\n",
    "# crm = CellRegMap(y=y, W=W, C=C, Ls=Ls)"
   ]
  },
  {
   "cell_type": "code",
   "execution_count": 83,
   "id": "c75da838",
   "metadata": {},
   "outputs": [],
   "source": [
    "# rhos, a, b as above"
   ]
  },
  {
   "cell_type": "code",
   "execution_count": 84,
   "id": "78abe26d",
   "metadata": {},
   "outputs": [
    {
     "name": "stdout",
     "output_type": "stream",
     "text": [
      "--- 0.0005128383636474609 seconds ---\n"
     ]
    }
   ],
   "source": [
    "start_time = time.time()\n",
    "hS = concatenate([a * C] + [b * L for L in Ls], axis=1)\n",
    "print(\"--- %s seconds ---\" % (time.time() - start_time))"
   ]
  },
  {
   "cell_type": "code",
   "execution_count": 86,
   "id": "2ca6502a",
   "metadata": {},
   "outputs": [
    {
     "data": {
      "text/plain": [
       "(30, 24)"
      ]
     },
     "execution_count": 86,
     "metadata": {},
     "output_type": "execute_result"
    }
   ],
   "source": [
    "# rank = 24: 4 contexts + (5 individuals)*4\n",
    "# n cells = 30\n",
    "hS.shape"
   ]
  },
  {
   "cell_type": "code",
   "execution_count": 85,
   "id": "a29318cb",
   "metadata": {},
   "outputs": [
    {
     "data": {
      "text/plain": [
       "<matplotlib.image.AxesImage at 0x2b08188a1370>"
      ]
     },
     "execution_count": 85,
     "metadata": {},
     "output_type": "execute_result"
    },
    {
     "data": {
      "image/png": "[encoded data removed]",
      "text/plain": [
       "<Figure size 288x288 with 1 Axes>"
      ]
     },
     "metadata": {
      "needs_background": "light"
     },
     "output_type": "display_data"
    }
   ],
   "source": [
    "plt.matshow(hS @ hS.T)"
   ]
  },
  {
   "cell_type": "code",
   "execution_count": 87,
   "id": "aaa731c7",
   "metadata": {},
   "outputs": [
    {
     "name": "stdout",
     "output_type": "stream",
     "text": [
      "--- 0.00055694580078125 seconds ---\n"
     ]
    }
   ],
   "source": [
    "start_time = time.time()\n",
    "QS = economic_qs_linear(hS, return_q1=False)\n",
    "print(\"--- %s seconds ---\" % (time.time() - start_time))"
   ]
  },
  {
   "cell_type": "code",
   "execution_count": 88,
   "id": "bfd74e42",
   "metadata": {},
   "outputs": [
    {
     "data": {
      "text/plain": [
       "(30, 24)"
      ]
     },
     "execution_count": 88,
     "metadata": {},
     "output_type": "execute_result"
    }
   ],
   "source": [
    "# eigenvectors\n",
    "Q = QS[0][0]\n",
    "Q.shape"
   ]
  },
  {
   "cell_type": "code",
   "execution_count": 89,
   "id": "9d2a143b",
   "metadata": {},
   "outputs": [
    {
     "data": {
      "text/plain": [
       "(24,)"
      ]
     },
     "execution_count": 89,
     "metadata": {},
     "output_type": "execute_result"
    }
   ],
   "source": [
    "# eigenvalues\n",
    "L = QS[1]\n",
    "L.shape"
   ]
  },
  {
   "cell_type": "code",
   "execution_count": 90,
   "id": "c5efa1d2",
   "metadata": {},
   "outputs": [
    {
     "data": {
      "text/plain": [
       "<matplotlib.image.AxesImage at 0x2b08188fc2b0>"
      ]
     },
     "execution_count": 90,
     "metadata": {},
     "output_type": "execute_result"
    },
    {
     "data": {
      "image/png": "[encoded data removed]",
      "text/plain": [
       "<Figure size 288x360 with 1 Axes>"
      ]
     },
     "metadata": {
      "needs_background": "light"
     },
     "output_type": "display_data"
    }
   ],
   "source": [
    "plt.matshow(Q)"
   ]
  },
  {
   "cell_type": "code",
   "execution_count": null,
   "id": "86f314e3",
   "metadata": {},
   "outputs": [],
   "source": [
    "###### Run GxC interaction for specified genotypes\n",
    "# crm.scan_interaction(g)"
   ]
  }
 ],
 "metadata": {
  "kernelspec": {
   "display_name": "Python (struct-lmm2)",
   "language": "python",
   "name": "struct-lmm2"
  },
  "language_info": {
   "codemirror_mode": {
    "name": "ipython",
    "version": 3
   },
   "file_extension": ".py",
   "mimetype": "text/x-python",
   "name": "python",
   "nbconvert_exporter": "python",
   "pygments_lexer": "ipython3",
   "version": "3.8.5"
  }
 },
 "nbformat": 4,
 "nbformat_minor": 5
}
