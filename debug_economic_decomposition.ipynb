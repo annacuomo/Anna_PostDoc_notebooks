{
 "cells": [
  {
   "cell_type": "code",
   "execution_count": 77,
   "id": "98c98f08",
   "metadata": {},
   "outputs": [],
   "source": [
    "from numpy import ones, linspace, sqrt, concatenate\n",
    "from numpy_sugar import ddot\n",
    "from numpy.random import RandomState\n",
    "from numpy_sugar.linalg import economic_qs, economic_qs_linear, economic_svd"
   ]
  },
  {
   "cell_type": "code",
   "execution_count": 34,
   "id": "1c71084b",
   "metadata": {},
   "outputs": [],
   "source": [
    "from cellregmap import run_association, run_interaction, estimate_betas"
   ]
  },
  {
   "cell_type": "code",
   "execution_count": 1,
   "id": "14e1ed72",
   "metadata": {},
   "outputs": [],
   "source": [
    "random = RandomState(1)\n",
    "n = 30                               # number of samples (cells)\n",
    "p = 5                                # number of individuals\n",
    "k = 4                                # number of contexts\n",
    "y = random.randn(n, 1)               # outcome vector (expression phenotype, one gene only)\n",
    "C = random.randn(n, k)               # context matrix (cells by contexts/factors)\n",
    "W = ones((n, 1))                     # intercept (covariate matrix)\n",
    "hK = random.randn(n, p)              # decomposition of kinship matrix (K = hK @ hK.T)\n",
    "g = 1.0 * (random.rand(n, 1) < 0.2)  # SNP vector"
   ]
  },
  {
   "cell_type": "code",
   "execution_count": 20,
   "id": "2521cb7a",
   "metadata": {},
   "outputs": [],
   "source": [
    "import time\n",
    "import matplotlib.pyplot as plt"
   ]
  },
  {
   "cell_type": "code",
   "execution_count": null,
   "id": "631dc527",
   "metadata": {},
   "outputs": [],
   "source": [
    "########################################################\n",
    "########################################################\n",
    "########################################################"
   ]
  },
  {
   "cell_type": "code",
   "execution_count": 2,
   "id": "7ad2e071",
   "metadata": {},
   "outputs": [],
   "source": [
    "########################################################\n",
    "############## Association Test"
   ]
  },
  {
   "cell_type": "code",
   "execution_count": null,
   "id": "b863fb9d",
   "metadata": {},
   "outputs": [],
   "source": [
    "###### Fit null model\n",
    "# crm = CellRegMap(y=y, W=W, C=C, hK=hK)"
   ]
  },
  {
   "cell_type": "code",
   "execution_count": 14,
   "id": "bd871d13",
   "metadata": {},
   "outputs": [
    {
     "name": "stdout",
     "output_type": "stream",
     "text": [
      "--- 0.0003185272216796875 seconds ---\n"
     ]
    }
   ],
   "source": [
    "start_time = time.time()\n",
    "rhos = linspace(0, 1, 11)\n",
    "print(\"--- %s seconds ---\" % (time.time() - start_time))"
   ]
  },
  {
   "cell_type": "code",
   "execution_count": 54,
   "id": "581f8b04",
   "metadata": {},
   "outputs": [],
   "source": [
    "rhos\n",
    "rho = rhos[3]"
   ]
  },
  {
   "cell_type": "code",
   "execution_count": 55,
   "id": "eac1e971",
   "metadata": {},
   "outputs": [
    {
     "data": {
      "text/plain": [
       "[0.5477225575051662, 0.8366600265340756]"
      ]
     },
     "execution_count": 55,
     "metadata": {},
     "output_type": "execute_result"
    }
   ],
   "source": [
    "a = sqrt(rho)\n",
    "b = sqrt(1 - rho)\n",
    "[a,b]"
   ]
  },
  {
   "cell_type": "code",
   "execution_count": 56,
   "id": "246b50f9",
   "metadata": {},
   "outputs": [
    {
     "name": "stdout",
     "output_type": "stream",
     "text": [
      "--- 0.0003058910369873047 seconds ---\n"
     ]
    }
   ],
   "source": [
    "start_time = time.time()\n",
    "hS = concatenate([a * C] + [b * hK], axis=1)\n",
    "print(\"--- %s seconds ---\" % (time.time() - start_time))"
   ]
  },
  {
   "cell_type": "code",
   "execution_count": 57,
   "id": "4f543aee",
   "metadata": {},
   "outputs": [
    {
     "data": {
      "text/plain": [
       "<matplotlib.image.AxesImage at 0x2b08185edaf0>"
      ]
     },
     "execution_count": 57,
     "metadata": {},
     "output_type": "execute_result"
    },
    {
     "data": {
      "image/png": "[encoded data removed]",
      "text/plain": [
       "<Figure size 288x960 with 1 Axes>"
      ]
     },
     "metadata": {
      "needs_background": "light"
     },
     "output_type": "display_data"
    }
   ],
   "source": [
    "plt.matshow(hS)"
   ]
  },
  {
   "cell_type": "code",
   "execution_count": 58,
   "id": "77774d1c",
   "metadata": {},
   "outputs": [
    {
     "data": {
      "text/plain": [
       "<matplotlib.image.AxesImage at 0x2b08185c6130>"
      ]
     },
     "execution_count": 58,
     "metadata": {},
     "output_type": "execute_result"
    },
    {
     "data": {
      "image/png": "[encoded data removed]",
      "text/plain": [
       "<Figure size 288x288 with 1 Axes>"
      ]
     },
     "metadata": {
      "needs_background": "light"
     },
     "output_type": "display_data"
    }
   ],
   "source": [
    "plt.matshow(hS @ hS.T)"
   ]
  },
  {
   "cell_type": "code",
   "execution_count": 59,
   "id": "c4710e2a",
   "metadata": {},
   "outputs": [
    {
     "data": {
      "text/plain": [
       "(30, 9)"
      ]
     },
     "execution_count": 59,
     "metadata": {},
     "output_type": "execute_result"
    }
   ],
   "source": [
    "# rank = 9: 4 contexts + 5 individuals\n",
    "# n cells = 30\n",
    "hS.shape"
   ]
  },
  {
   "cell_type": "code",
   "execution_count": 60,
   "id": "167775b7",
   "metadata": {},
   "outputs": [
    {
     "data": {
      "text/plain": [
       "(30, 30)"
      ]
     },
     "execution_count": 60,
     "metadata": {},
     "output_type": "execute_result"
    }
   ],
   "source": [
    "S = hS @ hS.T\n",
    "S.shape"
   ]
  },
  {
   "cell_type": "code",
   "execution_count": 61,
   "id": "759192e2",
   "metadata": {},
   "outputs": [
    {
     "name": "stdout",
     "output_type": "stream",
     "text": [
      "--- 0.0005869865417480469 seconds ---\n"
     ]
    }
   ],
   "source": [
    "start_time = time.time()\n",
    "QS = economic_qs_linear(hS, return_q1=False)\n",
    "print(\"--- %s seconds ---\" % (time.time() - start_time))"
   ]
  },
  {
   "cell_type": "code",
   "execution_count": 62,
   "id": "4bfed967",
   "metadata": {},
   "outputs": [
    {
     "data": {
      "text/plain": [
       "(30, 9)"
      ]
     },
     "execution_count": 62,
     "metadata": {},
     "output_type": "execute_result"
    }
   ],
   "source": [
    "# eigenvectors\n",
    "Q = QS[0][0]\n",
    "Q.shape"
   ]
  },
  {
   "cell_type": "code",
   "execution_count": 63,
   "id": "3353be5b",
   "metadata": {},
   "outputs": [
    {
     "data": {
      "text/plain": [
       "(9,)"
      ]
     },
     "execution_count": 63,
     "metadata": {},
     "output_type": "execute_result"
    }
   ],
   "source": [
    "# eigenvalues\n",
    "L = QS[1]\n",
    "L.shape"
   ]
  },
  {
   "cell_type": "code",
   "execution_count": 66,
   "id": "106a0a56",
   "metadata": {},
   "outputs": [
    {
     "data": {
      "text/plain": [
       "<matplotlib.image.AxesImage at 0x2b081877c490>"
      ]
     },
     "execution_count": 66,
     "metadata": {},
     "output_type": "execute_result"
    },
    {
     "data": {
      "image/png": "[encoded data removed]",
      "text/plain": [
       "<Figure size 288x960 with 1 Axes>"
      ]
     },
     "metadata": {
      "needs_background": "light"
     },
     "output_type": "display_data"
    }
   ],
   "source": [
    "plt.matshow(Q)"
   ]
  },
  {
   "cell_type": "code",
   "execution_count": null,
   "id": "36b910f7",
   "metadata": {},
   "outputs": [],
   "source": []
  },
  {
   "cell_type": "code",
   "execution_count": null,
   "id": "62eebe9b",
   "metadata": {},
   "outputs": [],
   "source": [
    "########################################################\n",
    "########################################################\n",
    "########################################################"
   ]
  },
  {
   "cell_type": "code",
   "execution_count": null,
   "id": "c68b755b",
   "metadata": {},
   "outputs": [],
   "source": [
    "########################################################\n",
    "############## Interaction Test"
   ]
  },
  {
   "cell_type": "code",
   "execution_count": null,
   "id": "a2003260",
   "metadata": {},
   "outputs": [],
   "source": [
    "###### get L values\n",
    "# Ls = get_L_values(hK, C)"
   ]
  },
  {
   "cell_type": "code",
   "execution_count": 69,
   "id": "8199cbf6",
   "metadata": {},
   "outputs": [
    {
     "name": "stdout",
     "output_type": "stream",
     "text": [
      "--- 0.00045037269592285156 seconds ---\n"
     ]
    }
   ],
   "source": [
    "start_time = time.time()\n",
    "[U, S, _] = economic_svd(C)\n",
    "print(\"--- %s seconds ---\" % (time.time() - start_time))"
   ]
  },
  {
   "cell_type": "code",
   "execution_count": 70,
   "id": "7d18af32",
   "metadata": {},
   "outputs": [
    {
     "data": {
      "text/plain": [
       "(30, 4)"
      ]
     },
     "execution_count": 70,
     "metadata": {},
     "output_type": "execute_result"
    }
   ],
   "source": [
    "U.shape"
   ]
  },
  {
   "cell_type": "code",
   "execution_count": 73,
   "id": "b43f376c",
   "metadata": {
    "scrolled": true
   },
   "outputs": [
    {
     "data": {
      "text/plain": [
       "<matplotlib.image.AxesImage at 0x2b0818845a30>"
      ]
     },
     "execution_count": 73,
     "metadata": {},
     "output_type": "execute_result"
    },
    {
     "data": {
      "image/png": "[encoded data removed]",
      "text/plain": [
       "<Figure size 288x1152 with 1 Axes>"
      ]
     },
     "metadata": {
      "needs_background": "light"
     },
     "output_type": "display_data"
    }
   ],
   "source": [
    "plt.matshow(U)"
   ]
  },
  {
   "cell_type": "code",
   "execution_count": 71,
   "id": "28b93445",
   "metadata": {},
   "outputs": [
    {
     "data": {
      "text/plain": [
       "(4,)"
      ]
     },
     "execution_count": 71,
     "metadata": {},
     "output_type": "execute_result"
    }
   ],
   "source": [
    "S.shape"
   ]
  },
  {
   "cell_type": "code",
   "execution_count": 75,
   "id": "a0fb505c",
   "metadata": {},
   "outputs": [
    {
     "name": "stdout",
     "output_type": "stream",
     "text": [
      "--- 0.00011444091796875 seconds ---\n"
     ]
    }
   ],
   "source": [
    "start_time = time.time()\n",
    "us = U * S\n",
    "print(\"--- %s seconds ---\" % (time.time() - start_time))"
   ]
  },
  {
   "cell_type": "code",
   "execution_count": 78,
   "id": "45bdd3a8",
   "metadata": {},
   "outputs": [
    {
     "name": "stdout",
     "output_type": "stream",
     "text": [
      "--- 0.0004088878631591797 seconds ---\n"
     ]
    }
   ],
   "source": [
    "start_time = time.time()\n",
    "Ls = [ddot(us[:,i], hK) for i in range(us.shape[1])]\n",
    "print(\"--- %s seconds ---\" % (time.time() - start_time))"
   ]
  },
  {
   "cell_type": "code",
   "execution_count": 80,
   "id": "c8cbae5c",
   "metadata": {},
   "outputs": [
    {
     "data": {
      "text/plain": [
       "4"
      ]
     },
     "execution_count": 80,
     "metadata": {},
     "output_type": "execute_result"
    }
   ],
   "source": [
    "# one per context\n",
    "len(Ls)"
   ]
  },
  {
   "cell_type": "code",
   "execution_count": 82,
   "id": "8afbc771",
   "metadata": {},
   "outputs": [
    {
     "data": {
      "text/plain": [
       "(30, 5)"
      ]
     },
     "execution_count": 82,
     "metadata": {},
     "output_type": "execute_result"
    }
   ],
   "source": [
    "# n cells X n individuals\n",
    "Ls[0].shape"
   ]
  },
  {
   "cell_type": "code",
   "execution_count": null,
   "id": "b165a299",
   "metadata": {},
   "outputs": [],
   "source": [
    "###### Fit null model\n",
    "# crm = CellRegMap(y=y, W=W, C=C, Ls=Ls)"
   ]
  },
  {
   "cell_type": "code",
   "execution_count": 83,
   "id": "7d630c58",
   "metadata": {},
   "outputs": [],
   "source": [
    "# rhos, a, b as above"
   ]
  },
  {
   "cell_type": "code",
   "execution_count": 84,
   "id": "79797044",
   "metadata": {},
   "outputs": [
    {
     "name": "stdout",
     "output_type": "stream",
     "text": [
      "--- 0.0005128383636474609 seconds ---\n"
     ]
    }
   ],
   "source": [
    "start_time = time.time()\n",
    "hS = concatenate([a * C] + [b * L for L in Ls], axis=1)\n",
    "print(\"--- %s seconds ---\" % (time.time() - start_time))"
   ]
  },
  {
   "cell_type": "code",
   "execution_count": 86,
   "id": "68550c5b",
   "metadata": {},
   "outputs": [
    {
     "data": {
      "text/plain": [
       "(30, 24)"
      ]
     },
     "execution_count": 86,
     "metadata": {},
     "output_type": "execute_result"
    }
   ],
   "source": [
    "# rank = 24: 4 contexts + (5 individuals)*4\n",
    "# n cells = 30\n",
    "hS.shape"
   ]
  },
  {
   "cell_type": "code",
   "execution_count": 85,
   "id": "c794d313",
   "metadata": {},
   "outputs": [
    {
     "data": {
      "text/plain": [
       "<matplotlib.image.AxesImage at 0x2b08188a1370>"
      ]
     },
     "execution_count": 85,
     "metadata": {},
     "output_type": "execute_result"
    },
    {
     "data": {
      "image/png": "[encoded data removed]",
      "text/plain": [
       "<Figure size 288x288 with 1 Axes>"
      ]
     },
     "metadata": {
      "needs_background": "light"
     },
     "output_type": "display_data"
    }
   ],
   "source": [
    "plt.matshow(hS @ hS.T)"
   ]
  },
  {
   "cell_type": "code",
   "execution_count": 87,
   "id": "fe0a6e3d",
   "metadata": {},
   "outputs": [
    {
     "name": "stdout",
     "output_type": "stream",
     "text": [
      "--- 0.00055694580078125 seconds ---\n"
     ]
    }
   ],
   "source": [
    "start_time = time.time()\n",
    "QS = economic_qs_linear(hS, return_q1=False)\n",
    "print(\"--- %s seconds ---\" % (time.time() - start_time))"
   ]
  },
  {
   "cell_type": "code",
   "execution_count": 88,
   "id": "7f38a93b",
   "metadata": {},
   "outputs": [
    {
     "data": {
      "text/plain": [
       "(30, 24)"
      ]
     },
     "execution_count": 88,
     "metadata": {},
     "output_type": "execute_result"
    }
   ],
   "source": [
    "# eigenvectors\n",
    "Q = QS[0][0]\n",
    "Q.shape"
   ]
  },
  {
   "cell_type": "code",
   "execution_count": 89,
   "id": "e0b6aa7f",
   "metadata": {},
   "outputs": [
    {
     "data": {
      "text/plain": [
       "(24,)"
      ]
     },
     "execution_count": 89,
     "metadata": {},
     "output_type": "execute_result"
    }
   ],
   "source": [
    "# eigenvalues\n",
    "L = QS[1]\n",
    "L.shape"
   ]
  },
  {
   "cell_type": "code",
   "execution_count": 90,
   "id": "991970f1",
   "metadata": {},
   "outputs": [
    {
     "data": {
      "text/plain": [
       "<matplotlib.image.AxesImage at 0x2b08188fc2b0>"
      ]
     },
     "execution_count": 90,
     "metadata": {},
     "output_type": "execute_result"
    },
    {
     "data": {
      "image/png": "[encoded data removed]",
      "text/plain": [
       "<Figure size 288x360 with 1 Axes>"
      ]
     },
     "metadata": {
      "needs_background": "light"
     },
     "output_type": "display_data"
    }
   ],
   "source": [
    "plt.matshow(Q)"
   ]
  },
  {
   "cell_type": "code",
   "execution_count": null,
   "id": "425965a2",
   "metadata": {},
   "outputs": [],
   "source": []
  }
 ],
 "metadata": {
  "kernelspec": {
   "display_name": "Python (struct-lmm2)",
   "language": "python",
   "name": "struct-lmm2"
  },
  "language_info": {
   "codemirror_mode": {
    "name": "ipython",
    "version": 3
   },
   "file_extension": ".py",
   "mimetype": "text/x-python",
   "name": "python",
   "nbconvert_exporter": "python",
   "pygments_lexer": "ipython3",
   "version": "3.8.5"
  }
 },
 "nbformat": 4,
 "nbformat_minor": 5
}
